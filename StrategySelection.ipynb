{
 "cells": [
  {
   "cell_type": "markdown",
   "metadata": {
    "id": "NZD9bF7XFJDy"
   },
   "source": [
    "# **Import Dataset and Labels**"
   ]
  },
  {
   "cell_type": "code",
   "execution_count": 1,
   "metadata": {
    "id": "bJ93Q7VcG7gy"
   },
   "outputs": [],
   "source": [
    "# This code is to set GPU to expand only when needed, otherwise it occupies the whole space and training stops in between\n",
    "import tensorflow as tf\n",
    "gpus = tf.config.experimental.list_physical_devices('GPU')\n",
    "for gpu in gpus:\n",
    "  tf.config.experimental.set_memory_growth(gpu, True)"
   ]
  },
  {
   "cell_type": "code",
   "execution_count": 2,
   "metadata": {
    "executionInfo": {
     "elapsed": 34952,
     "status": "ok",
     "timestamp": 1642851137629,
     "user": {
      "displayName": "Aman Kukreja",
      "photoUrl": "https://lh3.googleusercontent.com/a/default-user=s64",
      "userId": "03885497601021122555"
     },
     "user_tz": -330
    },
    "id": "yZ5ePZ_dUM8-"
   },
   "outputs": [],
   "source": [
    "import pandas as pd\n",
    "x = pd.read_csv('/home/cadcam/Aman/ML Based Strategy Selection/ML based selection/Datasets/dataset_a_n.csv', delimiter=',')\n",
    "y = pd.read_csv('/home/cadcam/Aman/ML Based Strategy Selection/ML based selection/Datasets/labels_a_n.csv', delimiter=',')"
   ]
  },
  {
   "cell_type": "code",
   "execution_count": 3,
   "metadata": {
    "executionInfo": {
     "elapsed": 9,
     "status": "ok",
     "timestamp": 1642851137629,
     "user": {
      "displayName": "Aman Kukreja",
      "photoUrl": "https://lh3.googleusercontent.com/a/default-user=s64",
      "userId": "03885497601021122555"
     },
     "user_tz": -330
    },
    "id": "cvw7vo6y4wQi"
   },
   "outputs": [
    {
     "data": {
      "text/plain": [
       "(10000, 8853)"
      ]
     },
     "execution_count": 3,
     "metadata": {},
     "output_type": "execute_result"
    }
   ],
   "source": [
    "#x.drop(x.columns[[0]], axis=1, inplace=True)\n",
    "x=x.values # convert to numpy array to perform preprocessing\n",
    "y=y.values-1 # labels converted from 1,2,3 to 0,1,2 so that num_classes can be made = 3\n",
    "x.shape"
   ]
  },
  {
   "cell_type": "markdown",
   "metadata": {
    "id": "Xt7UZm78Fx67"
   },
   "source": [
    "# **Pre-Processing**"
   ]
  },
  {
   "cell_type": "code",
   "execution_count": 4,
   "metadata": {
    "executionInfo": {
     "elapsed": 2,
     "status": "ok",
     "timestamp": 1642851138531,
     "user": {
      "displayName": "Aman Kukreja",
      "photoUrl": "https://lh3.googleusercontent.com/a/default-user=s64",
      "userId": "03885497601021122555"
     },
     "user_tz": -330
    },
    "id": "HfvlvMyZYIL_"
   },
   "outputs": [],
   "source": [
    "# Train test split\n",
    "import numpy as np\n",
    "from sklearn.model_selection import train_test_split\n",
    "\n",
    "x=np.transpose(x)\n",
    "x_train, x_valid, y_train, y_valid = train_test_split(x, y, test_size=0.20, random_state=30, shuffle=True)"
   ]
  },
  {
   "cell_type": "code",
   "execution_count": 5,
   "metadata": {
    "executionInfo": {
     "elapsed": 439,
     "status": "ok",
     "timestamp": 1642854489164,
     "user": {
      "displayName": "Aman Kukreja",
      "photoUrl": "https://lh3.googleusercontent.com/a/default-user=s64",
      "userId": "03885497601021122555"
     },
     "user_tz": -330
    },
    "id": "kz3r3717e2zZ"
   },
   "outputs": [],
   "source": [
    "# Turn scalar targets into binary categories: Binary hot encoding\n",
    "import tensorflow.keras as keras\n",
    "num_classes = 3\n",
    "y_train = keras.utils.to_categorical(y_train, num_classes)\n",
    "y_valid = keras.utils.to_categorical(y_valid, num_classes)\n",
    "\n",
    "# Normalize data with max value of the model\n",
    "x_train = x_train / np.amax(x)\n",
    "x_valid = x_valid / np.amax(x)\n",
    "\n",
    "x_train = x_train.reshape(-1,100,100,1)\n",
    "x_valid = x_valid.reshape(-1,100,100,1)"
   ]
  },
  {
   "cell_type": "markdown",
   "metadata": {
    "id": "ddVtlNtdF4V_"
   },
   "source": [
    "# **Model Creation**"
   ]
  },
  {
   "cell_type": "markdown",
   "metadata": {},
   "source": [
    "## ANN Model"
   ]
  },
  {
   "cell_type": "code",
   "execution_count": 44,
   "metadata": {},
   "outputs": [
    {
     "name": "stdout",
     "output_type": "stream",
     "text": [
      "Model: \"sequential_6\"\n",
      "_________________________________________________________________\n",
      "Layer (type)                 Output Shape              Param #   \n",
      "=================================================================\n",
      "dense_18 (Dense)             (None, 512)               5120512   \n",
      "_________________________________________________________________\n",
      "dense_19 (Dense)             (None, 512)               262656    \n",
      "_________________________________________________________________\n",
      "dense_20 (Dense)             (None, 256)               131328    \n",
      "_________________________________________________________________\n",
      "dense_21 (Dense)             (None, 128)               32896     \n",
      "_________________________________________________________________\n",
      "dense_22 (Dense)             (None, 3)                 387       \n",
      "=================================================================\n",
      "Total params: 5,547,779\n",
      "Trainable params: 5,547,779\n",
      "Non-trainable params: 0\n",
      "_________________________________________________________________\n"
     ]
    }
   ],
   "source": [
    "# Import model libraries and create model for ANN\n",
    "import tensorflow.keras as keras\n",
    "from tensorflow.keras.models import Sequential\n",
    "from tensorflow.keras.layers import Dense\n",
    "from tensorflow.keras.callbacks import ReduceLROnPlateau\n",
    "from tensorflow.keras.optimizers import SGD\n",
    "\n",
    "opt = SGD(learning_rate=1e-2, momentum=0.9, decay=0.01)\n",
    "rlrop = ReduceLROnPlateau(monitor='val_loss', factor=0.1, patience=5)\n",
    "model=Sequential()\n",
    "model.add(Dense(units=512, activation='relu', input_shape=(10000,)))\n",
    "model.add(Dense(units=512, activation='relu'))\n",
    "model.add(Dense(units=256, activation='relu'))\n",
    "model.add(Dense(units=128, activation='relu'))\n",
    "model.add(Dense(units=3, activation='softmax'))\n",
    "model.summary()"
   ]
  },
  {
   "cell_type": "markdown",
   "metadata": {
    "id": "0S6Swn61fcXv"
   },
   "source": [
    "## **CNN BASED MODEL**"
   ]
  },
  {
   "cell_type": "code",
   "execution_count": 7,
   "metadata": {
    "executionInfo": {
     "elapsed": 390,
     "status": "ok",
     "timestamp": 1642854494150,
     "user": {
      "displayName": "Aman Kukreja",
      "photoUrl": "https://lh3.googleusercontent.com/a/default-user=s64",
      "userId": "03885497601021122555"
     },
     "user_tz": -330
    },
    "id": "LtJYylmPSNXL"
   },
   "outputs": [],
   "source": [
    "from tensorflow.keras.optimizers import SGD, Adam, RMSprop\n",
    "from tensorflow.keras.models import Sequential\n",
    "from tensorflow.keras.callbacks import ReduceLROnPlateau\n",
    "from tensorflow.keras.regularizers import l2, l1\n",
    "from tensorflow.keras.layers import (\n",
    "    Dense,\n",
    "    Conv2D,\n",
    "    MaxPool2D,\n",
    "    Flatten,\n",
    "    Dropout,\n",
    "    BatchNormalization,\n",
    ")\n",
    "opt = SGD(learning_rate=1e-2, momentum=0.8, nesterov=False, decay=0.001)\n",
    "rlrop = ReduceLROnPlateau(monitor='val_loss', factor=0.8, patience=10)\n",
    "#opt='rmsprop'\n",
    "#opt='adam'\n",
    "model = Sequential()\n",
    "model.add(Conv2D(50, (3, 3), strides=1, padding=\"same\", activation=\"sigmoid\", \n",
    "                 input_shape=(100, 100, 1)))\n",
    "model.add(BatchNormalization())\n",
    "model.add(MaxPool2D((2, 2), strides=2, padding=\"same\"))\n",
    "model.add(Conv2D(25, (3, 3), strides=1, padding=\"same\", activation=\"relu\"))\n",
    "model.add(BatchNormalization())\n",
    "model.add(MaxPool2D((2, 2), strides=2, padding=\"same\"))\n",
    "model.add(Flatten())\n",
    "model.add(Dense(units=512, activation=\"relu\"))\n",
    "model.add(Dropout(0.3))\n",
    "model.add(Dense(units=num_classes, activation=\"softmax\"))\n",
    "#model.add(Dense(3,kernel_regularizer=l2(0.01),activation = \"softmax\")) #for CNN with SVM add dense layer with regularizer"
   ]
  },
  {
   "cell_type": "code",
   "execution_count": 8,
   "metadata": {
    "id": "sDMClRG3Q3Fl"
   },
   "outputs": [
    {
     "name": "stdout",
     "output_type": "stream",
     "text": [
      "Model: \"sequential\"\n",
      "_________________________________________________________________\n",
      "Layer (type)                 Output Shape              Param #   \n",
      "=================================================================\n",
      "conv2d (Conv2D)              (None, 100, 100, 50)      500       \n",
      "_________________________________________________________________\n",
      "batch_normalization (BatchNo (None, 100, 100, 50)      200       \n",
      "_________________________________________________________________\n",
      "max_pooling2d (MaxPooling2D) (None, 50, 50, 50)        0         \n",
      "_________________________________________________________________\n",
      "conv2d_1 (Conv2D)            (None, 50, 50, 25)        11275     \n",
      "_________________________________________________________________\n",
      "batch_normalization_1 (Batch (None, 50, 50, 25)        100       \n",
      "_________________________________________________________________\n",
      "max_pooling2d_1 (MaxPooling2 (None, 25, 25, 25)        0         \n",
      "_________________________________________________________________\n",
      "flatten (Flatten)            (None, 15625)             0         \n",
      "_________________________________________________________________\n",
      "dense (Dense)                (None, 512)               8000512   \n",
      "_________________________________________________________________\n",
      "dropout (Dropout)            (None, 512)               0         \n",
      "_________________________________________________________________\n",
      "dense_1 (Dense)              (None, 3)                 1539      \n",
      "=================================================================\n",
      "Total params: 8,014,126\n",
      "Trainable params: 8,013,976\n",
      "Non-trainable params: 150\n",
      "_________________________________________________________________\n"
     ]
    }
   ],
   "source": [
    "model.summary()"
   ]
  },
  {
   "cell_type": "markdown",
   "metadata": {
    "id": "Vh3edWedF_sD"
   },
   "source": [
    "## **Model Fitting (Training)**"
   ]
  },
  {
   "cell_type": "code",
   "execution_count": 9,
   "metadata": {
    "id": "Txb1rxkFvj_q"
   },
   "outputs": [
    {
     "name": "stdout",
     "output_type": "stream",
     "text": [
      "Train on 7082 samples, validate on 1771 samples\n",
      "Epoch 1/60\n",
      "7082/7082 [==============================] - 11s 2ms/sample - loss: 0.3173 - accuracy: 0.9036 - val_loss: 1.4922 - val_accuracy: 0.3264\n",
      "Epoch 2/60\n",
      "7082/7082 [==============================] - 2s 343us/sample - loss: 0.1706 - accuracy: 0.9396 - val_loss: 1.2992 - val_accuracy: 0.4658\n",
      "Epoch 3/60\n",
      "7082/7082 [==============================] - 2s 340us/sample - loss: 0.1426 - accuracy: 0.9490 - val_loss: 0.9937 - val_accuracy: 0.5573\n",
      "Epoch 4/60\n",
      "7082/7082 [==============================] - 2s 352us/sample - loss: 0.1303 - accuracy: 0.9520 - val_loss: 0.5144 - val_accuracy: 0.7804\n",
      "Epoch 5/60\n",
      "7082/7082 [==============================] - 2s 344us/sample - loss: 0.1179 - accuracy: 0.9555 - val_loss: 0.1533 - val_accuracy: 0.9401\n",
      "Epoch 6/60\n",
      "7082/7082 [==============================] - 2s 347us/sample - loss: 0.1131 - accuracy: 0.9569 - val_loss: 0.1205 - val_accuracy: 0.9588\n",
      "Epoch 7/60\n",
      "7082/7082 [==============================] - 3s 357us/sample - loss: 0.1082 - accuracy: 0.9571 - val_loss: 0.1075 - val_accuracy: 0.9639\n",
      "Epoch 8/60\n",
      "7082/7082 [==============================] - 2s 352us/sample - loss: 0.0981 - accuracy: 0.9631 - val_loss: 0.1185 - val_accuracy: 0.9565\n",
      "Epoch 9/60\n",
      "7082/7082 [==============================] - 2s 347us/sample - loss: 0.0948 - accuracy: 0.9639 - val_loss: 0.1117 - val_accuracy: 0.9571\n",
      "Epoch 10/60\n",
      "7082/7082 [==============================] - 3s 354us/sample - loss: 0.0860 - accuracy: 0.9688 - val_loss: 0.1035 - val_accuracy: 0.9622\n",
      "Epoch 11/60\n",
      "7082/7082 [==============================] - 3s 355us/sample - loss: 0.0849 - accuracy: 0.9667 - val_loss: 0.1010 - val_accuracy: 0.9633\n",
      "Epoch 12/60\n",
      "7082/7082 [==============================] - 3s 355us/sample - loss: 0.0779 - accuracy: 0.9688 - val_loss: 0.1102 - val_accuracy: 0.9593\n",
      "Epoch 13/60\n",
      "7082/7082 [==============================] - 3s 356us/sample - loss: 0.0778 - accuracy: 0.9715 - val_loss: 0.0962 - val_accuracy: 0.9673\n",
      "Epoch 14/60\n",
      "7082/7082 [==============================] - 2s 342us/sample - loss: 0.0747 - accuracy: 0.9725 - val_loss: 0.1069 - val_accuracy: 0.9582\n",
      "Epoch 15/60\n",
      "7082/7082 [==============================] - 2s 351us/sample - loss: 0.0738 - accuracy: 0.9727 - val_loss: 0.0983 - val_accuracy: 0.9639\n",
      "Epoch 16/60\n",
      "7082/7082 [==============================] - 2s 350us/sample - loss: 0.0705 - accuracy: 0.9746 - val_loss: 0.1006 - val_accuracy: 0.9684\n",
      "Epoch 17/60\n",
      "7082/7082 [==============================] - 2s 342us/sample - loss: 0.0675 - accuracy: 0.9733 - val_loss: 0.0994 - val_accuracy: 0.9661\n",
      "Epoch 18/60\n",
      "7082/7082 [==============================] - 2s 340us/sample - loss: 0.0716 - accuracy: 0.9702 - val_loss: 0.1037 - val_accuracy: 0.9650\n",
      "Epoch 19/60\n",
      "7082/7082 [==============================] - 2s 336us/sample - loss: 0.0638 - accuracy: 0.9781 - val_loss: 0.1035 - val_accuracy: 0.9650\n",
      "Epoch 20/60\n",
      "7082/7082 [==============================] - 2s 340us/sample - loss: 0.0624 - accuracy: 0.9768 - val_loss: 0.1022 - val_accuracy: 0.9644\n",
      "Epoch 21/60\n",
      "7082/7082 [==============================] - 2s 346us/sample - loss: 0.0623 - accuracy: 0.9774 - val_loss: 0.0989 - val_accuracy: 0.9678\n",
      "Epoch 22/60\n",
      "7082/7082 [==============================] - 2s 341us/sample - loss: 0.0612 - accuracy: 0.9775 - val_loss: 0.1027 - val_accuracy: 0.9667\n",
      "Epoch 23/60\n",
      "7082/7082 [==============================] - 2s 345us/sample - loss: 0.0604 - accuracy: 0.9787 - val_loss: 0.1097 - val_accuracy: 0.9610\n",
      "Epoch 24/60\n",
      "7082/7082 [==============================] - 2s 338us/sample - loss: 0.0578 - accuracy: 0.9781 - val_loss: 0.1070 - val_accuracy: 0.9639\n",
      "Epoch 25/60\n",
      "7082/7082 [==============================] - 2s 343us/sample - loss: 0.0570 - accuracy: 0.9790 - val_loss: 0.1062 - val_accuracy: 0.9644\n",
      "Epoch 26/60\n",
      "7082/7082 [==============================] - 2s 342us/sample - loss: 0.0565 - accuracy: 0.9790 - val_loss: 0.1071 - val_accuracy: 0.9616\n",
      "Epoch 27/60\n",
      "7082/7082 [==============================] - 2s 343us/sample - loss: 0.0540 - accuracy: 0.9801 - val_loss: 0.1116 - val_accuracy: 0.9616\n",
      "Epoch 28/60\n",
      "7082/7082 [==============================] - 2s 343us/sample - loss: 0.0535 - accuracy: 0.9816 - val_loss: 0.1050 - val_accuracy: 0.9644\n",
      "Epoch 29/60\n",
      "7082/7082 [==============================] - 2s 342us/sample - loss: 0.0521 - accuracy: 0.9816 - val_loss: 0.1003 - val_accuracy: 0.9678\n",
      "Epoch 30/60\n",
      "7082/7082 [==============================] - 2s 345us/sample - loss: 0.0526 - accuracy: 0.9828 - val_loss: 0.1049 - val_accuracy: 0.9684\n",
      "Epoch 31/60\n",
      "7082/7082 [==============================] - 2s 344us/sample - loss: 0.0521 - accuracy: 0.9808 - val_loss: 0.1040 - val_accuracy: 0.9673\n",
      "Epoch 32/60\n",
      "7082/7082 [==============================] - 2s 351us/sample - loss: 0.0520 - accuracy: 0.9816 - val_loss: 0.1073 - val_accuracy: 0.9701\n",
      "Epoch 33/60\n",
      "7082/7082 [==============================] - 2s 350us/sample - loss: 0.0501 - accuracy: 0.9811 - val_loss: 0.1048 - val_accuracy: 0.9706\n",
      "Epoch 34/60\n",
      "7082/7082 [==============================] - 2s 340us/sample - loss: 0.0482 - accuracy: 0.9812 - val_loss: 0.1056 - val_accuracy: 0.9695\n",
      "Epoch 35/60\n",
      "7082/7082 [==============================] - 2s 342us/sample - loss: 0.0469 - accuracy: 0.9846 - val_loss: 0.1106 - val_accuracy: 0.9673\n",
      "Epoch 36/60\n",
      "7082/7082 [==============================] - 2s 348us/sample - loss: 0.0488 - accuracy: 0.9819 - val_loss: 0.1058 - val_accuracy: 0.9678\n",
      "Epoch 37/60\n",
      "7082/7082 [==============================] - 2s 346us/sample - loss: 0.0471 - accuracy: 0.9833 - val_loss: 0.1096 - val_accuracy: 0.9689\n",
      "Epoch 38/60\n",
      "7082/7082 [==============================] - 2s 344us/sample - loss: 0.0471 - accuracy: 0.9816 - val_loss: 0.1054 - val_accuracy: 0.9678\n",
      "Epoch 39/60\n",
      "7082/7082 [==============================] - 3s 359us/sample - loss: 0.0472 - accuracy: 0.9814 - val_loss: 0.1067 - val_accuracy: 0.9695\n",
      "Epoch 40/60\n",
      "7082/7082 [==============================] - 2s 348us/sample - loss: 0.0470 - accuracy: 0.9828 - val_loss: 0.1043 - val_accuracy: 0.9706\n",
      "Epoch 41/60\n",
      "7082/7082 [==============================] - 2s 346us/sample - loss: 0.0466 - accuracy: 0.9849 - val_loss: 0.1059 - val_accuracy: 0.9689\n",
      "Epoch 42/60\n",
      "7082/7082 [==============================] - 2s 351us/sample - loss: 0.0459 - accuracy: 0.9842 - val_loss: 0.1055 - val_accuracy: 0.9689\n",
      "Epoch 43/60\n",
      "7082/7082 [==============================] - 2s 351us/sample - loss: 0.0471 - accuracy: 0.9832 - val_loss: 0.1069 - val_accuracy: 0.9684\n",
      "Epoch 44/60\n",
      "7082/7082 [==============================] - 3s 355us/sample - loss: 0.0431 - accuracy: 0.9859 - val_loss: 0.1106 - val_accuracy: 0.9678\n",
      "Epoch 45/60\n",
      "7082/7082 [==============================] - 3s 359us/sample - loss: 0.0437 - accuracy: 0.9846 - val_loss: 0.1083 - val_accuracy: 0.9684\n",
      "Epoch 46/60\n",
      "7082/7082 [==============================] - 2s 345us/sample - loss: 0.0416 - accuracy: 0.9866 - val_loss: 0.1085 - val_accuracy: 0.9689\n",
      "Epoch 47/60\n",
      "7082/7082 [==============================] - 2s 341us/sample - loss: 0.0437 - accuracy: 0.9857 - val_loss: 0.1081 - val_accuracy: 0.9689\n",
      "Epoch 48/60\n",
      "7082/7082 [==============================] - 2s 346us/sample - loss: 0.0423 - accuracy: 0.9859 - val_loss: 0.1099 - val_accuracy: 0.9695\n",
      "Epoch 49/60\n",
      "7082/7082 [==============================] - 2s 346us/sample - loss: 0.0434 - accuracy: 0.9863 - val_loss: 0.1074 - val_accuracy: 0.9673\n",
      "Epoch 50/60\n",
      "7082/7082 [==============================] - 2s 340us/sample - loss: 0.0430 - accuracy: 0.9849 - val_loss: 0.1081 - val_accuracy: 0.9689\n",
      "Epoch 51/60\n",
      "7082/7082 [==============================] - 2s 343us/sample - loss: 0.0425 - accuracy: 0.9857 - val_loss: 0.1076 - val_accuracy: 0.9684\n",
      "Epoch 52/60\n",
      "7082/7082 [==============================] - 3s 356us/sample - loss: 0.0419 - accuracy: 0.9852 - val_loss: 0.1083 - val_accuracy: 0.9684\n",
      "Epoch 53/60\n",
      "7082/7082 [==============================] - 3s 354us/sample - loss: 0.0394 - accuracy: 0.9856 - val_loss: 0.1069 - val_accuracy: 0.9673\n",
      "Epoch 54/60\n",
      "7082/7082 [==============================] - 2s 349us/sample - loss: 0.0421 - accuracy: 0.9870 - val_loss: 0.1066 - val_accuracy: 0.9689\n",
      "Epoch 55/60\n",
      "7082/7082 [==============================] - 3s 360us/sample - loss: 0.0415 - accuracy: 0.9857 - val_loss: 0.1078 - val_accuracy: 0.9684\n"
     ]
    },
    {
     "name": "stdout",
     "output_type": "stream",
     "text": [
      "Epoch 56/60\n",
      "7082/7082 [==============================] - 2s 350us/sample - loss: 0.0396 - accuracy: 0.9864 - val_loss: 0.1085 - val_accuracy: 0.9689\n",
      "Epoch 57/60\n",
      "7082/7082 [==============================] - 3s 359us/sample - loss: 0.0418 - accuracy: 0.9856 - val_loss: 0.1087 - val_accuracy: 0.9684\n",
      "Epoch 58/60\n",
      "7082/7082 [==============================] - 2s 351us/sample - loss: 0.0421 - accuracy: 0.9860 - val_loss: 0.1088 - val_accuracy: 0.9684\n",
      "Epoch 59/60\n",
      "7082/7082 [==============================] - 2s 351us/sample - loss: 0.0436 - accuracy: 0.9840 - val_loss: 0.1101 - val_accuracy: 0.9684\n",
      "Epoch 60/60\n",
      "7082/7082 [==============================] - 3s 354us/sample - loss: 0.0399 - accuracy: 0.9881 - val_loss: 0.1100 - val_accuracy: 0.9684\n"
     ]
    }
   ],
   "source": [
    "model.compile(loss=\"categorical_crossentropy\",optimizer=opt, metrics=[\"accuracy\"])\n",
    "history=model.fit(x_train, y_train, epochs=60, verbose=1, callbacks=[rlrop], validation_data=(x_valid, y_valid), batch_size=50)\n",
    "\n",
    "# For CNN with SVM use squared hinge function instead of Cross entropy\n",
    "#model.compile(optimizer=opt,loss='squared_hinge', metrics = [\"accuracy\"])\n",
    "#history=model.fit(x_train, y_train, epochs=60, verbose=1, validation_data=(x_valid, y_valid))"
   ]
  },
  {
   "cell_type": "markdown",
   "metadata": {
    "id": "mAUr1rltGF70"
   },
   "source": [
    "## **Plot Loss and Accuracy**"
   ]
  },
  {
   "cell_type": "code",
   "execution_count": 109,
   "metadata": {},
   "outputs": [],
   "source": [
    "h=history\n",
    "h1=history1\n",
    "h2=history2"
   ]
  },
  {
   "cell_type": "code",
   "execution_count": 117,
   "metadata": {},
   "outputs": [
    {
     "name": "stdout",
     "output_type": "stream",
     "text": [
      "0.7653618226745988\n",
      "0.9350649\n"
     ]
    }
   ],
   "source": [
    "print(np.min(h2.history['val_loss']))\n",
    "print(np.max(h2.history['val_accuracy']))"
   ]
  },
  {
   "cell_type": "code",
   "execution_count": 114,
   "metadata": {},
   "outputs": [
    {
     "data": {
      "text/plain": [
       "<matplotlib.legend.Legend at 0x7f267ca51208>"
      ]
     },
     "execution_count": 114,
     "metadata": {},
     "output_type": "execute_result"
    },
    {
     "data": {
      "image/png": "[encoded data removed]",
      "text/plain": [
       "<Figure size 432x288 with 1 Axes>"
      ]
     },
     "metadata": {
      "needs_background": "light"
     },
     "output_type": "display_data"
    }
   ],
   "source": [
    "#plot comparison of different models\n",
    "plt.matplotlib.rcParams.update({'font.size': 16})\n",
    "\n",
    "plt.title('Model loss')\n",
    "plt.ylabel('loss')\n",
    "plt.xlabel('epoch')\n",
    "\n",
    "plt.plot(h.history['loss'])\n",
    "plt.plot(h1.history['loss'])\n",
    "plt.plot(h2.history['loss'])\n",
    "\n",
    "plt.legend(['CNN','ANN','CNN with SVM'], loc='lower right')"
   ]
  },
  {
   "cell_type": "code",
   "execution_count": 115,
   "metadata": {},
   "outputs": [
    {
     "data": {
      "text/plain": [
       "<matplotlib.legend.Legend at 0x7f267c7c56d8>"
      ]
     },
     "execution_count": 115,
     "metadata": {},
     "output_type": "execute_result"
    },
    {
     "data": {
      "image/png": "[encoded data removed]",
      "text/plain": [
       "<Figure size 432x288 with 1 Axes>"
      ]
     },
     "metadata": {
      "needs_background": "light"
     },
     "output_type": "display_data"
    }
   ],
   "source": [
    "plt.matplotlib.rcParams.update({'font.size': 16})\n",
    "\n",
    "plt.title('Model accuracy')\n",
    "plt.ylabel('accuracy')\n",
    "plt.xlabel('epoch')\n",
    "\n",
    "plt.plot(h.history['val_accuracy'])\n",
    "plt.plot(h1.history['val_accuracy'])\n",
    "plt.plot(h2.history['val_accuracy'])\n",
    "\n",
    "plt.legend(['CNN','ANN','CNN with SVM'], loc='lower right')"
   ]
  },
  {
   "cell_type": "code",
   "execution_count": 113,
   "metadata": {
    "id": "EfoFL28QfZOB"
   },
   "outputs": [
    {
     "name": "stdout",
     "output_type": "stream",
     "text": [
      "dict_keys(['loss', 'accuracy', 'val_loss', 'val_accuracy', 'lr'])\n"
     ]
    },
    {
     "data": {
      "image/png": "[encoded data removed]",
      "text/plain": [
       "<Figure size 432x288 with 1 Axes>"
      ]
     },
     "metadata": {
      "needs_background": "light"
     },
     "output_type": "display_data"
    },
    {
     "data": {
      "image/png": "[encoded data removed]",
      "text/plain": [
       "<Figure size 432x288 with 1 Axes>"
      ]
     },
     "metadata": {
      "needs_background": "light"
     },
     "output_type": "display_data"
    }
   ],
   "source": [
    "history=h\n",
    "\n",
    "import matplotlib.pyplot as plt\n",
    "# list all data in history\n",
    "print(history.history.keys())\n",
    "\n",
    "# summarize history for accuracy\n",
    "plt.matplotlib.rcParams.update({'font.size': 16})\n",
    "plt.plot(history.history['accuracy'])\n",
    "plt.plot(history.history['val_accuracy'])\n",
    "\n",
    "plt.title('Model Accuracy')\n",
    "plt.ylabel('accuracy')\n",
    "plt.xlabel('epoch')\n",
    "plt.legend(['Train', 'Test'], loc='lower right')\n",
    "plt.show()\n",
    "\n",
    "# summarize history for loss\n",
    "plt.plot(history.history['loss'])\n",
    "plt.plot(history.history['val_loss'])\n",
    "\n",
    "plt.title('Model Loss')\n",
    "plt.ylabel('loss')\n",
    "plt.xlabel('epoch')\n",
    "plt.legend(['Train', 'Test'], loc='upper right')\n",
    "plt.show()"
   ]
  },
  {
   "cell_type": "markdown",
   "metadata": {},
   "source": [
    "## Loading and Analyzing trained model on test Set"
   ]
  },
  {
   "cell_type": "code",
   "execution_count": 45,
   "metadata": {
    "executionInfo": {
     "elapsed": 10421,
     "status": "ok",
     "timestamp": 1642849393742,
     "user": {
      "displayName": "Aman Kukreja",
      "photoUrl": "https://lh3.googleusercontent.com/a/default-user=s64",
      "userId": "03885497601021122555"
     },
     "user_tz": -330
    },
    "id": "Sq02El6aho2m"
   },
   "outputs": [],
   "source": [
    "from tensorflow import keras\n",
    "\n",
    "model= keras.models.load_model('/home/cadcam/Aman/ML Based Strategy Selection/Model_dataset_a/Model_dataset_a_2/FeatureSelectorModel1')"
   ]
  },
  {
   "cell_type": "code",
   "execution_count": 3,
   "metadata": {
    "id": "biL5qbIN2cLP"
   },
   "outputs": [
    {
     "name": "stdout",
     "output_type": "stream",
     "text": [
      "Model: \"sequential\"\n",
      "_________________________________________________________________\n",
      "Layer (type)                 Output Shape              Param #   \n",
      "=================================================================\n",
      "conv2d (Conv2D)              (None, 100, 100, 50)      500       \n",
      "_________________________________________________________________\n",
      "batch_normalization (BatchNo (None, 100, 100, 50)      200       \n",
      "_________________________________________________________________\n",
      "max_pooling2d (MaxPooling2D) (None, 50, 50, 50)        0         \n",
      "_________________________________________________________________\n",
      "conv2d_1 (Conv2D)            (None, 50, 50, 25)        11275     \n",
      "_________________________________________________________________\n",
      "batch_normalization_1 (Batch (None, 50, 50, 25)        100       \n",
      "_________________________________________________________________\n",
      "max_pooling2d_1 (MaxPooling2 (None, 25, 25, 25)        0         \n",
      "_________________________________________________________________\n",
      "flatten (Flatten)            (None, 15625)             0         \n",
      "_________________________________________________________________\n",
      "dense (Dense)                (None, 512)               8000512   \n",
      "_________________________________________________________________\n",
      "dropout (Dropout)            (None, 512)               0         \n",
      "_________________________________________________________________\n",
      "dense_1 (Dense)              (None, 3)                 1539      \n",
      "=================================================================\n",
      "Total params: 8,014,126\n",
      "Trainable params: 8,013,976\n",
      "Non-trainable params: 150\n",
      "_________________________________________________________________\n"
     ]
    }
   ],
   "source": [
    "model.summary()"
   ]
  },
  {
   "cell_type": "code",
   "execution_count": null,
   "metadata": {
    "id": "Pa5NcuxQ3LVQ"
   },
   "outputs": [],
   "source": [
    "# to know the activation functions used in the model\n",
    "for i, layer in enumerate (model.layers):\n",
    "    print (i, layer)\n",
    "    try:\n",
    "        print (\"    \",layer.activation)\n",
    "    except AttributeError:\n",
    "        print('   no activation attribute')"
   ]
  },
  {
   "cell_type": "markdown",
   "metadata": {},
   "source": [
    "##  Metrics using sklearn"
   ]
  },
  {
   "cell_type": "code",
   "execution_count": 64,
   "metadata": {
    "id": "H5LhTO2IdZqA"
   },
   "outputs": [
    {
     "name": "stdout",
     "output_type": "stream",
     "text": [
      "Accuracy: 0.967815\n",
      "Precision: 0.968255\n",
      "Recall: 0.968020\n",
      "F1 score: 0.968123\n",
      "Cohens kappa: 0.951714\n",
      "[[573  21   0]\n",
      " [ 26 571   2]\n",
      " [  0   8 570]]\n"
     ]
    }
   ],
   "source": [
    "from sklearn.datasets import make_circles\n",
    "from sklearn.metrics import accuracy_score\n",
    "from sklearn.metrics import precision_score\n",
    "from sklearn.metrics import recall_score\n",
    "from sklearn.metrics import f1_score\n",
    "from sklearn.metrics import cohen_kappa_score\n",
    "from sklearn.metrics import roc_auc_score\n",
    "from sklearn.metrics import confusion_matrix\n",
    "from tensorflow.keras.models import Sequential\n",
    "from tensorflow.keras.layers import Dense\n",
    "\n",
    "x_test1=x_valid # acutal input in the form of [-1,100,100,1]\n",
    "y_test=y_valid1 #actual labels not one hot encoded\n",
    "\n",
    "# predict probabilities for test set\n",
    "yhat_probs = model.predict(x_test1, verbose=0)\n",
    "# predict crisp classes for test set\n",
    "yhat_classes = np.argmax(yhat_probs,axis=1)\n",
    "\n",
    "# accuracy: (tp + tn) / (p + n)\n",
    "accuracy = accuracy_score(y_test, yhat_classes)\n",
    "print('Accuracy: %f' % accuracy)\n",
    "# precision tp / (tp + fp)\n",
    "precision = precision_score(y_test, yhat_classes, average='macro')\n",
    "print('Precision: %f' % precision)\n",
    "# recall: tp / (tp + fn)\n",
    "recall = recall_score(y_test, yhat_classes, average='macro')\n",
    "print('Recall: %f' % recall)\n",
    "# f1: 2 tp / (2 tp + fp + fn)\n",
    "f1 = f1_score(y_test, yhat_classes, average='macro')\n",
    "print('F1 score: %f' % f1)\n",
    "\n",
    "# kappa\n",
    "kappa = cohen_kappa_score(y_test, yhat_classes)\n",
    "print('Cohens kappa: %f' % kappa)\n",
    "# ROC AUC\n",
    "#auc = roc_auc_score(y_test, yhat_classes,average='macro',multi_class='ovo')\n",
    "#print('ROC AUC: %f' % auc)\n",
    "# confusion matrix\n",
    "matrix = confusion_matrix(y_test, yhat_classes)\n",
    "print(matrix)"
   ]
  }
 ],
 "metadata": {
  "accelerator": "GPU",
  "colab": {
   "authorship_tag": "ABX9TyNNPcWjQYVrNoRNJKIUSMLP",
   "collapsed_sections": [],
   "mount_file_id": "1OuuCP-c_XMO2-7gPkQko1np6dieVmqVw",
   "name": "StrategySelection.ipynb",
   "provenance": [
    {
     "file_id": "1zbCt183IfGIm5E68_I8mi-f4EnpoHhoT",
     "timestamp": 1635769138022
    }
   ]
  },
  "kernelspec": {
   "display_name": "Python 3 (ipykernel)",
   "language": "python",
   "name": "python3"
  },
  "language_info": {
   "codemirror_mode": {
    "name": "ipython",
    "version": 3
   },
   "file_extension": ".py",
   "mimetype": "text/x-python",
   "name": "python",
   "nbconvert_exporter": "python",
   "pygments_lexer": "ipython3",
   "version": "3.9.13"
  }
 },
 "nbformat": 4,
 "nbformat_minor": 1
}
